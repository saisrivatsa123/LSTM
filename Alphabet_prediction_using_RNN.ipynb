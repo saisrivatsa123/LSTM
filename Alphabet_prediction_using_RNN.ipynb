{
 "cells": [
  {
   "cell_type": "markdown",
   "id": "4fdef8ab",
   "metadata": {},
   "source": [
    "#### LSTM with variable length input sequences to one character output"
   ]
  },
  {
   "cell_type": "code",
   "execution_count": 5,
   "id": "5288f4bd",
   "metadata": {},
   "outputs": [],
   "source": [
    "import numpy as np\n",
    "from keras.models import Sequential\n",
    "from keras.layers import Dense\n",
    "from keras.layers import LSTM\n",
    "from keras.utils import np_utils\n",
    "from tensorflow.keras.preprocessing.sequence import pad_sequences "
   ]
  },
  {
   "cell_type": "markdown",
   "id": "714e68ed",
   "metadata": {},
   "source": [
    "#### Fix random seeds for Reproducibility "
   ]
  },
  {
   "cell_type": "code",
   "execution_count": 7,
   "id": "528e75ab",
   "metadata": {},
   "outputs": [],
   "source": [
    "np.random.seed(7)"
   ]
  },
  {
   "cell_type": "markdown",
   "id": "d2c8a2ea",
   "metadata": {},
   "source": [
    "#### Define row dataset"
   ]
  },
  {
   "cell_type": "code",
   "execution_count": 1,
   "id": "70e7578f",
   "metadata": {},
   "outputs": [],
   "source": [
    "alphabet = \"ABCDEFGHIJKLMNOPQRSTUVWXYZ\""
   ]
  },
  {
   "cell_type": "markdown",
   "id": "716d1a4d",
   "metadata": {},
   "source": [
    "#### Creating mapping of characters to integers (0-25) and reverse"
   ]
  },
  {
   "cell_type": "code",
   "execution_count": 23,
   "id": "10b60fe0",
   "metadata": {},
   "outputs": [],
   "source": [
    "char_to_int = dict((c, i) for i, c in enumerate(alphabet))\n",
    "int_to_char = dict((i, c) for i, c in enumerate(alphabet))"
   ]
  },
  {
   "cell_type": "markdown",
   "id": "3c5370c9",
   "metadata": {},
   "source": [
    "#### Prepare the dataset of input and output pairs encoded as integers"
   ]
  },
  {
   "cell_type": "code",
   "execution_count": 46,
   "id": "83c02dba",
   "metadata": {},
   "outputs": [
    {
     "name": "stdout",
     "output_type": "stream",
     "text": [
      "[[4, 5, 6, 7], 8, 'EFGH', '->', 'I', [14, 15, 16, 17, 18], 19, 'OPQRS', '->', 'T', [2, 3], 4, 'CD', '->', 'E', [10, 11], 12, 'KL', '->', 'M', [14, 15, 16, 17, 18], 19, 'OPQRS', '->', 'T', [3], 4, 'D', '->', 'E', [14, 15, 16, 17], 18, 'OPQR', '->', 'S', [4, 5, 6, 7], 8, 'EFGH', '->', 'I', [16, 17, 18], 19, 'QRS', '->', 'T', [6], 7, 'G', '->', 'H', [22], 23, 'W', '->', 'X', [20, 21, 22], 23, 'UVW', '->', 'X', [13, 14, 15], 16, 'NOP', '->', 'Q', [9, 10, 11, 12], 13, 'JKLM', '->', 'N', [9, 10, 11, 12], 13, 'JKLM', '->', 'N', [18, 19], 20, 'ST', '->', 'U', [2, 3, 4, 5, 6], 7, 'CDEFG', '->', 'H', [21, 22, 23], 24, 'VWX', '->', 'Y', [11], 12, 'L', '->', 'M', [11], 12, 'L', '->', 'M', [12, 13], 14, 'MN', '->', 'O', [10, 11, 12, 13, 14], 15, 'KLMNO', '->', 'P', [9, 10, 11, 12, 13], 14, 'JKLMN', '->', 'O', [20, 21, 22, 23], 24, 'UVWX', '->', 'Y', [13, 14, 15], 16, 'NOP', '->', 'Q', [14, 15, 16], 17, 'OPQ', '->', 'R', [13, 14, 15, 16], 17, 'NOPQ', '->', 'R', [18, 19, 20, 21, 22], 23, 'STUVW', '->', 'X', [22, 23, 24], 25, 'WXY', '->', 'Z', [14, 15, 16], 17, 'OPQ', '->', 'R']\n"
     ]
    }
   ],
   "source": [
    "num_inputs = 1000\n",
    "max_len = 5\n",
    "dataX = []\n",
    "dataY = []\n",
    "for i in range(num_inputs):\n",
    "    start = np.random.randint(len(alphabet)-2)\n",
    "    end = np.random.randint(start, min(start+max_len,len(alphabet)-1))\n",
    "    sequence_in = alphabet[start:end+1]\n",
    "    sequence_out = alphabet[end + 1]\n",
    "    dataX.append([char_to_int[char] for char in sequence_in])\n",
    "    dataY.append(char_to_int[sequence_out])\n",
    "    seq += sequence_in, '->', sequence_out\n",
    "print(seq[:150])"
   ]
  },
  {
   "cell_type": "markdown",
   "id": "81a7a103",
   "metadata": {},
   "source": [
    "#### Convert the List of Lists to an Array and pad_sequences if needed"
   ]
  },
  {
   "cell_type": "code",
   "execution_count": 48,
   "id": "105ff80c",
   "metadata": {},
   "outputs": [],
   "source": [
    "# convert list of lists to array and pad sequences if needed\n",
    "X = pad_sequences(dataX, maxlen=max_len, dtype='float32')\n",
    "# reshape X to be [samples, time steps, features]\n",
    "X = numpy.reshape(X, (X.shape[0], max_len, 1))\n",
    "# normalize\n",
    "X = X / float(len(alphabet))\n",
    "# one hot encode the output variable\n",
    "y = np_utils.to_categorical(dataY)\n",
    "# create and fit the model"
   ]
  },
  {
   "cell_type": "code",
   "execution_count": 50,
   "id": "1075521b",
   "metadata": {},
   "outputs": [
    {
     "name": "stderr",
     "output_type": "stream",
     "text": [
      "2022-09-10 13:51:51.772576: I tensorflow/core/grappler/optimizers/custom_graph_optimizer_registry.cc:113] Plugin optimizer for device_type GPU is enabled.\n",
      "2022-09-10 13:51:51.860907: I tensorflow/core/grappler/optimizers/custom_graph_optimizer_registry.cc:113] Plugin optimizer for device_type GPU is enabled.\n",
      "2022-09-10 13:51:51.897606: I tensorflow/core/grappler/optimizers/custom_graph_optimizer_registry.cc:113] Plugin optimizer for device_type GPU is enabled.\n"
     ]
    },
    {
     "data": {
      "text/plain": [
       "<keras.callbacks.History at 0x166cb0940>"
      ]
     },
     "execution_count": 50,
     "metadata": {},
     "output_type": "execute_result"
    }
   ],
   "source": [
    "batch_size = 50\n",
    "model = Sequential()\n",
    "model.add(LSTM(32, input_shape=(X.shape[1], 1)))\n",
    "model.add(Dense(y.shape[1], activation='softmax'))\n",
    "model.compile(loss='categorical_crossentropy', optimizer='adam', metrics=['accuracy'])\n",
    "model.fit(X, y, epochs=500, batch_size=batch_size, verbose=0)"
   ]
  },
  {
   "cell_type": "code",
   "execution_count": 51,
   "id": "6925eda8",
   "metadata": {},
   "outputs": [
    {
     "name": "stderr",
     "output_type": "stream",
     "text": [
      "2022-09-10 13:53:05.332486: I tensorflow/core/grappler/optimizers/custom_graph_optimizer_registry.cc:113] Plugin optimizer for device_type GPU is enabled.\n",
      "2022-09-10 13:53:05.404554: I tensorflow/core/grappler/optimizers/custom_graph_optimizer_registry.cc:113] Plugin optimizer for device_type GPU is enabled.\n"
     ]
    },
    {
     "name": "stdout",
     "output_type": "stream",
     "text": [
      "Model Accuracy: 89.20%\n"
     ]
    }
   ],
   "source": [
    "# summarize performance of the model\n",
    "scores = model.evaluate(X, y, verbose=0)\n",
    "print(\"Model Accuracy: %.2f%%\" % (scores[1]*100))\n"
   ]
  },
  {
   "cell_type": "code",
   "execution_count": 52,
   "id": "02313c3e",
   "metadata": {},
   "outputs": [
    {
     "name": "stderr",
     "output_type": "stream",
     "text": [
      "2022-09-10 13:53:16.035537: I tensorflow/core/grappler/optimizers/custom_graph_optimizer_registry.cc:113] Plugin optimizer for device_type GPU is enabled.\n",
      "2022-09-10 13:53:16.073444: I tensorflow/core/grappler/optimizers/custom_graph_optimizer_registry.cc:113] Plugin optimizer for device_type GPU is enabled.\n"
     ]
    },
    {
     "name": "stdout",
     "output_type": "stream",
     "text": [
      "['P', 'Q'] -> R\n",
      "['G', 'H', 'I', 'J', 'K'] -> L\n",
      "['E', 'F', 'G'] -> H\n",
      "['O', 'P'] -> Q\n",
      "['W'] -> Y\n",
      "['N', 'O', 'P', 'Q'] -> R\n",
      "['W', 'X'] -> Y\n",
      "['Q', 'R', 'S', 'T', 'U'] -> V\n",
      "['F', 'G'] -> H\n",
      "['M', 'N', 'O', 'P', 'Q'] -> R\n",
      "['J', 'K', 'L'] -> M\n",
      "['X'] -> Y\n",
      "['I'] -> J\n",
      "['R', 'S', 'T', 'U'] -> V\n",
      "['E', 'F'] -> G\n",
      "['W', 'X', 'Y'] -> Z\n",
      "['M', 'N', 'O', 'P', 'Q'] -> R\n",
      "['J', 'K', 'L', 'M', 'N'] -> O\n",
      "['O', 'P', 'Q', 'R', 'S'] -> T\n",
      "['P', 'Q', 'R'] -> S\n"
     ]
    }
   ],
   "source": [
    "# demonstrate some model predictions\n",
    "for i in range(20):\n",
    "    pattern_index = numpy.random.randint(len(dataX))\n",
    "    pattern = dataX[pattern_index]\n",
    "    x = pad_sequences([pattern], maxlen=max_len, dtype='float32')\n",
    "    x = numpy.reshape(x, (1, max_len, 1))\n",
    "    x = x / float(len(alphabet))\n",
    "    prediction = model.predict(x, verbose=0)\n",
    "    index = numpy.argmax(prediction)\n",
    "    result = int_to_char[index]\n",
    "    seq_in = [int_to_char[value] for value in pattern]\n",
    "    print(seq_in, \"->\", result)"
   ]
  },
  {
   "cell_type": "code",
   "execution_count": null,
   "id": "2adcb5ed",
   "metadata": {},
   "outputs": [],
   "source": []
  }
 ],
 "metadata": {
  "kernelspec": {
   "display_name": "Python 3.9.13 (tensorflow)",
   "language": "python",
   "name": "tensorflow"
  },
  "language_info": {
   "codemirror_mode": {
    "name": "ipython",
    "version": 3
   },
   "file_extension": ".py",
   "mimetype": "text/x-python",
   "name": "python",
   "nbconvert_exporter": "python",
   "pygments_lexer": "ipython3",
   "version": "3.9.13"
  }
 },
 "nbformat": 4,
 "nbformat_minor": 5
}
